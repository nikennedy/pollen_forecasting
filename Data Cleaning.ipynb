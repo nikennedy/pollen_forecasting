{
 "cells": [
  {
   "cell_type": "markdown",
   "metadata": {},
   "source": [
    "# Data Preparation and Cleaning\n",
    "\n",
    "The data used in this report comes from two sources: \n",
    "- Pollen data comes from The <a href=\"https://www.houstontx.gov/health/Pollen-Mold/pollen-archives.html\">Houston Health Department website</a>\n",
    "- Climate data comes from the the <a href=\"ncei.noaa.gov\"> National Oceanic and Atmospheric Administration's (NOAA) National Center for Environmental Information (NCEI) </a>\n",
    "\n",
    "Pollen Data was compiled from individual monthly spreadsheets from 2013 to 2022 consisting of pollen counts "
   ]
  },
  {
   "cell_type": "code",
   "execution_count": 1,
   "metadata": {},
   "outputs": [],
   "source": [
    "import pandas as pd\n",
    "import numpy as np\n",
    "import seaborn as sns\n",
    "import matplotlib.pyplot as plt\n",
    "\n",
    "%matplotlib inline"
   ]
  },
  {
   "cell_type": "markdown",
   "metadata": {},
   "source": [
    "Having combined the multiple spreadsheets in Excel, the resulting spreadsheet is loaded below:"
   ]
  },
  {
   "cell_type": "code",
   "execution_count": 5,
   "metadata": {},
   "outputs": [],
   "source": [
    "pollen_df = pd.read_csv('C://Users/Nick/Documents/Flatiron/capstone/data/all_pollen.csv')"
   ]
  },
  {
   "cell_type": "code",
   "execution_count": 6,
   "metadata": {
    "scrolled": true
   },
   "outputs": [
    {
     "name": "stdout",
     "output_type": "stream",
     "text": [
      "<class 'pandas.core.frame.DataFrame'>\n",
      "RangeIndex: 3377 entries, 0 to 3376\n",
      "Data columns (total 70 columns):\n",
      " #   Column                       Non-Null Count  Dtype  \n",
      "---  ------                       --------------  -----  \n",
      " 0   DATE                         3377 non-null   object \n",
      " 1   Alder                        1068 non-null   float64\n",
      " 2   Ash                          2358 non-null   float64\n",
      " 3   Ashe Juniper / Bald Cypress  2358 non-null   float64\n",
      " 4   Black Gum                    2358 non-null   float64\n",
      " 5   Black Walnut                 2342 non-null   float64\n",
      " 6   Bushes                       2358 non-null   float64\n",
      " 7   Birch                        2358 non-null   float64\n",
      " 8   Cedar                        832 non-null    float64\n",
      " 9   Cotton Wood                  2358 non-null   float64\n",
      " 10  Dogwood                      2358 non-null   float64\n",
      " 11  Elm                          2358 non-null   float64\n",
      " 12  Glandular Mesquite           2358 non-null   float64\n",
      " 13   Hackberry                   2358 non-null   float64\n",
      " 14  Hickory                      2358 non-null   float64\n",
      " 15  Mulberry                     2358 non-null   float64\n",
      " 16  Maple                        2358 non-null   float64\n",
      " 17  Osage Orange                 2358 non-null   float64\n",
      " 18  Oak                          2358 non-null   float64\n",
      " 19  Sycamore                     2358 non-null   float64\n",
      " 20  Pine                         2358 non-null   float64\n",
      " 21  Privet                       2358 non-null   object \n",
      " 22  Sweet Gum                    2358 non-null   float64\n",
      " 23  Gingko Biloba                2358 non-null   object \n",
      " 24  Magnolia                     2358 non-null   float64\n",
      " 25  Willow                       2358 non-null   object \n",
      " 26  Tree Total                   2358 non-null   float64\n",
      " 27  Grass Total                  2358 non-null   float64\n",
      " 28  Tree & Grass Total           2358 non-null   float64\n",
      " 29  Amaranth                     2358 non-null   float64\n",
      " 30  Burweed / Marshelder         2358 non-null   float64\n",
      " 31  Cattail                      2358 non-null   float64\n",
      " 32  Dog Fennel                   2358 non-null   float64\n",
      " 33  Lamb's Quarters              2358 non-null   float64\n",
      " 34  Nettle                       708 non-null    float64\n",
      " 35  Partridge Pea                2336 non-null   float64\n",
      " 36  Pigweed                      2249 non-null   float64\n",
      " 37  Plum Grannet                 2358 non-null   float64\n",
      " 38  Ragweed                      2358 non-null   float64\n",
      " 39  Rumex                        2358 non-null   float64\n",
      " 40  Sagebrush                    2358 non-null   float64\n",
      " 41  Saltbrush                    2358 non-null   float64\n",
      " 42  Sedge                        2358 non-null   float64\n",
      " 43  Sneezeweed                   2358 non-null   float64\n",
      " 44  Other Weed                   2358 non-null   float64\n",
      " 45  Weed Total                   2358 non-null   float64\n",
      " 46  Pollen Total                 2358 non-null   float64\n",
      " 47  Tech.                        3377 non-null   object \n",
      " 48  AWND_60                      3287 non-null   float64\n",
      " 49  PRCP_60                      3287 non-null   float64\n",
      " 50  SNOW_60                      3286 non-null   float64\n",
      " 51  SNWD_60                      3286 non-null   float64\n",
      " 52  TAVG_60                      3287 non-null   float64\n",
      " 53  TMAX_60                      3287 non-null   float64\n",
      " 54  TMIN_60                      3287 non-null   float64\n",
      " 55  WDF2_60                      3287 non-null   float64\n",
      " 56  WDF5_60                      3271 non-null   float64\n",
      " 57  WSF2_60                      3287 non-null   float64\n",
      " 58  WSF5_60                      3271 non-null   float64\n",
      " 59  AWND_18                      3287 non-null   float64\n",
      " 60  PRCP_18                      3287 non-null   float64\n",
      " 61  SNOW_18                      364 non-null    float64\n",
      " 62  SNWD_18                      363 non-null    float64\n",
      " 63  TAVG_18                      3287 non-null   float64\n",
      " 64  TMAX_18                      3287 non-null   float64\n",
      " 65  TMIN_18                      3287 non-null   float64\n",
      " 66  WDF2_18                      3287 non-null   float64\n",
      " 67  WDF5_18                      3260 non-null   float64\n",
      " 68  WSF2_18                      3287 non-null   float64\n",
      " 69  WSF5_18                      3260 non-null   float64\n",
      "dtypes: float64(65), object(5)\n",
      "memory usage: 1.8+ MB\n"
     ]
    }
   ],
   "source": [
    "pollen_df.info()"
   ]
  },
  {
   "cell_type": "code",
   "execution_count": 7,
   "metadata": {},
   "outputs": [],
   "source": [
    "\n",
    "pollen_df['DATE'] = pd.to_datetime(pollen_df['DATE'])"
   ]
  },
  {
   "cell_type": "code",
   "execution_count": 8,
   "metadata": {},
   "outputs": [],
   "source": [
    "#some of the text data\n",
    "pollen_df['DATE'] = pd.to_numeric(pollen_df['DATE'], errors = 'coerce')"
   ]
  },
  {
   "cell_type": "code",
   "execution_count": 9,
   "metadata": {},
   "outputs": [],
   "source": [
    "pollen_df['DATE'] = pd.to_datetime(pollen_df['DATE'])"
   ]
  },
  {
   "cell_type": "code",
   "execution_count": 10,
   "metadata": {},
   "outputs": [],
   "source": [
    "#setting the index as date time\n",
    "pollen_df.set_index('DATE', drop=True, inplace=True)"
   ]
  },
  {
   "cell_type": "code",
   "execution_count": 11,
   "metadata": {},
   "outputs": [],
   "source": [
    "#sorting the date index so it works well in our further manipulations\n",
    "pollen_df = pollen_df.sort_index()"
   ]
  },
  {
   "cell_type": "code",
   "execution_count": 12,
   "metadata": {},
   "outputs": [
    {
     "name": "stdout",
     "output_type": "stream",
     "text": [
      "<class 'pandas.core.frame.DataFrame'>\n",
      "DatetimeIndex: 3377 entries, 2013-01-01 to 2022-03-31\n",
      "Data columns (total 69 columns):\n",
      " #   Column                       Non-Null Count  Dtype  \n",
      "---  ------                       --------------  -----  \n",
      " 0   Alder                        1068 non-null   float64\n",
      " 1   Ash                          2358 non-null   float64\n",
      " 2   Ashe Juniper / Bald Cypress  2358 non-null   float64\n",
      " 3   Black Gum                    2358 non-null   float64\n",
      " 4   Black Walnut                 2342 non-null   float64\n",
      " 5   Bushes                       2358 non-null   float64\n",
      " 6   Birch                        2358 non-null   float64\n",
      " 7   Cedar                        832 non-null    float64\n",
      " 8   Cotton Wood                  2358 non-null   float64\n",
      " 9   Dogwood                      2358 non-null   float64\n",
      " 10  Elm                          2358 non-null   float64\n",
      " 11  Glandular Mesquite           2358 non-null   float64\n",
      " 12   Hackberry                   2358 non-null   float64\n",
      " 13  Hickory                      2358 non-null   float64\n",
      " 14  Mulberry                     2358 non-null   float64\n",
      " 15  Maple                        2358 non-null   float64\n",
      " 16  Osage Orange                 2358 non-null   float64\n",
      " 17  Oak                          2358 non-null   float64\n",
      " 18  Sycamore                     2358 non-null   float64\n",
      " 19  Pine                         2358 non-null   float64\n",
      " 20  Privet                       2358 non-null   object \n",
      " 21  Sweet Gum                    2358 non-null   float64\n",
      " 22  Gingko Biloba                2358 non-null   object \n",
      " 23  Magnolia                     2358 non-null   float64\n",
      " 24  Willow                       2358 non-null   object \n",
      " 25  Tree Total                   2358 non-null   float64\n",
      " 26  Grass Total                  2358 non-null   float64\n",
      " 27  Tree & Grass Total           2358 non-null   float64\n",
      " 28  Amaranth                     2358 non-null   float64\n",
      " 29  Burweed / Marshelder         2358 non-null   float64\n",
      " 30  Cattail                      2358 non-null   float64\n",
      " 31  Dog Fennel                   2358 non-null   float64\n",
      " 32  Lamb's Quarters              2358 non-null   float64\n",
      " 33  Nettle                       708 non-null    float64\n",
      " 34  Partridge Pea                2336 non-null   float64\n",
      " 35  Pigweed                      2249 non-null   float64\n",
      " 36  Plum Grannet                 2358 non-null   float64\n",
      " 37  Ragweed                      2358 non-null   float64\n",
      " 38  Rumex                        2358 non-null   float64\n",
      " 39  Sagebrush                    2358 non-null   float64\n",
      " 40  Saltbrush                    2358 non-null   float64\n",
      " 41  Sedge                        2358 non-null   float64\n",
      " 42  Sneezeweed                   2358 non-null   float64\n",
      " 43  Other Weed                   2358 non-null   float64\n",
      " 44  Weed Total                   2358 non-null   float64\n",
      " 45  Pollen Total                 2358 non-null   float64\n",
      " 46  Tech.                        3377 non-null   object \n",
      " 47  AWND_60                      3287 non-null   float64\n",
      " 48  PRCP_60                      3287 non-null   float64\n",
      " 49  SNOW_60                      3286 non-null   float64\n",
      " 50  SNWD_60                      3286 non-null   float64\n",
      " 51  TAVG_60                      3287 non-null   float64\n",
      " 52  TMAX_60                      3287 non-null   float64\n",
      " 53  TMIN_60                      3287 non-null   float64\n",
      " 54  WDF2_60                      3287 non-null   float64\n",
      " 55  WDF5_60                      3271 non-null   float64\n",
      " 56  WSF2_60                      3287 non-null   float64\n",
      " 57  WSF5_60                      3271 non-null   float64\n",
      " 58  AWND_18                      3287 non-null   float64\n",
      " 59  PRCP_18                      3287 non-null   float64\n",
      " 60  SNOW_18                      364 non-null    float64\n",
      " 61  SNWD_18                      363 non-null    float64\n",
      " 62  TAVG_18                      3287 non-null   float64\n",
      " 63  TMAX_18                      3287 non-null   float64\n",
      " 64  TMIN_18                      3287 non-null   float64\n",
      " 65  WDF2_18                      3287 non-null   float64\n",
      " 66  WDF5_18                      3260 non-null   float64\n",
      " 67  WSF2_18                      3287 non-null   float64\n",
      " 68  WSF5_18                      3260 non-null   float64\n",
      "dtypes: float64(65), object(4)\n",
      "memory usage: 1.8+ MB\n"
     ]
    }
   ],
   "source": [
    "pollen_df.info()"
   ]
  },
  {
   "cell_type": "markdown",
   "metadata": {},
   "source": [
    "As evindenced above, there are many missing values. The Technicians who measured pollen counts do not work on weekends or holidays. This is address further down in the cleaning. "
   ]
  },
  {
   "cell_type": "code",
   "execution_count": 13,
   "metadata": {},
   "outputs": [],
   "source": [
    "#all columns should be  numeric exepct tech\n",
    "pollen_df['Willow'] = pd.to_numeric(pollen_df['Willow'], errors='coerce') \n",
    "\n",
    "pollen_df['Gingko Biloba'] = pd.to_numeric(pollen_df['Gingko Biloba'], errors='coerce') \n",
    "\n",
    "pollen_df['Privet'] = pd.to_numeric(pollen_df['Privet'], errors='coerce') "
   ]
  },
  {
   "cell_type": "code",
   "execution_count": 14,
   "metadata": {},
   "outputs": [
    {
     "name": "stderr",
     "output_type": "stream",
     "text": [
      "A subdirectory or file data already exists.\n"
     ]
    }
   ],
   "source": [
    "! mkdir data"
   ]
  },
  {
   "cell_type": "code",
   "execution_count": 15,
   "metadata": {},
   "outputs": [],
   "source": [
    "#\n",
    "pollen_df.to_csv('data/pollen_df.csv')"
   ]
  },
  {
   "cell_type": "markdown",
   "metadata": {},
   "source": [
    "### preliminary exploration \n",
    "taking a look at initial correlations to see the landscape of the data:"
   ]
  },
  {
   "cell_type": "code",
   "execution_count": null,
   "metadata": {},
   "outputs": [],
   "source": []
  },
  {
   "cell_type": "markdown",
   "metadata": {},
   "source": [
    "### Pulling in Data from Shreveport\n",
    "Shreveport, Lousiana is located just over 200 miles fro Houston beyond a lusher forested area. We would like to see if weather indicators there have any greater or lesser impact on pollen counts than that of Houston proper."
   ]
  },
  {
   "cell_type": "code",
   "execution_count": 16,
   "metadata": {},
   "outputs": [
    {
     "name": "stdout",
     "output_type": "stream",
     "text": [
      "<class 'pandas.core.frame.DataFrame'>\n",
      "RangeIndex: 3372 entries, 0 to 3371\n",
      "Data columns (total 5 columns):\n",
      " #   Column  Non-Null Count  Dtype  \n",
      "---  ------  --------------  -----  \n",
      " 0   DATE    3372 non-null   object \n",
      " 1   AWND    3350 non-null   float64\n",
      " 2   PRCP    3372 non-null   float64\n",
      " 3   TAVG    3372 non-null   float64\n",
      " 4   WDF2    3372 non-null   int64  \n",
      "dtypes: float64(3), int64(1), object(1)\n",
      "memory usage: 131.8+ KB\n"
     ]
    }
   ],
   "source": [
    "shreveport_df = pd.read_csv('data/shreveport.csv')\n",
    "shreveport_df.info()"
   ]
  },
  {
   "cell_type": "code",
   "execution_count": 17,
   "metadata": {},
   "outputs": [],
   "source": [
    "#converting the 'DATE' column to the correct format\n",
    "shreveport_df['DATE'] = pd.to_datetime(shreveport_df['DATE'])"
   ]
  },
  {
   "cell_type": "code",
   "execution_count": 18,
   "metadata": {},
   "outputs": [],
   "source": [
    "combined_df = pollen_df.merge(shreveport_df, on='DATE')"
   ]
  },
  {
   "cell_type": "code",
   "execution_count": 19,
   "metadata": {},
   "outputs": [
    {
     "name": "stdout",
     "output_type": "stream",
     "text": [
      "<class 'pandas.core.frame.DataFrame'>\n",
      "Int64Index: 3372 entries, 0 to 3371\n",
      "Data columns (total 74 columns):\n",
      " #   Column                       Non-Null Count  Dtype         \n",
      "---  ------                       --------------  -----         \n",
      " 0   DATE                         3372 non-null   datetime64[ns]\n",
      " 1   Alder                        1064 non-null   float64       \n",
      " 2   Ash                          2354 non-null   float64       \n",
      " 3   Ashe Juniper / Bald Cypress  2354 non-null   float64       \n",
      " 4   Black Gum                    2354 non-null   float64       \n",
      " 5   Black Walnut                 2338 non-null   float64       \n",
      " 6   Bushes                       2354 non-null   float64       \n",
      " 7   Birch                        2354 non-null   float64       \n",
      " 8   Cedar                        828 non-null    float64       \n",
      " 9   Cotton Wood                  2354 non-null   float64       \n",
      " 10  Dogwood                      2354 non-null   float64       \n",
      " 11  Elm                          2354 non-null   float64       \n",
      " 12  Glandular Mesquite           2354 non-null   float64       \n",
      " 13   Hackberry                   2354 non-null   float64       \n",
      " 14  Hickory                      2354 non-null   float64       \n",
      " 15  Mulberry                     2354 non-null   float64       \n",
      " 16  Maple                        2354 non-null   float64       \n",
      " 17  Osage Orange                 2354 non-null   float64       \n",
      " 18  Oak                          2354 non-null   float64       \n",
      " 19  Sycamore                     2354 non-null   float64       \n",
      " 20  Pine                         2354 non-null   float64       \n",
      " 21  Privet                       2353 non-null   float64       \n",
      " 22  Sweet Gum                    2354 non-null   float64       \n",
      " 23  Gingko Biloba                2353 non-null   float64       \n",
      " 24  Magnolia                     2354 non-null   float64       \n",
      " 25  Willow                       2353 non-null   float64       \n",
      " 26  Tree Total                   2354 non-null   float64       \n",
      " 27  Grass Total                  2354 non-null   float64       \n",
      " 28  Tree & Grass Total           2354 non-null   float64       \n",
      " 29  Amaranth                     2354 non-null   float64       \n",
      " 30  Burweed / Marshelder         2354 non-null   float64       \n",
      " 31  Cattail                      2354 non-null   float64       \n",
      " 32  Dog Fennel                   2354 non-null   float64       \n",
      " 33  Lamb's Quarters              2354 non-null   float64       \n",
      " 34  Nettle                       708 non-null    float64       \n",
      " 35  Partridge Pea                2332 non-null   float64       \n",
      " 36  Pigweed                      2245 non-null   float64       \n",
      " 37  Plum Grannet                 2354 non-null   float64       \n",
      " 38  Ragweed                      2354 non-null   float64       \n",
      " 39  Rumex                        2354 non-null   float64       \n",
      " 40  Sagebrush                    2354 non-null   float64       \n",
      " 41  Saltbrush                    2354 non-null   float64       \n",
      " 42  Sedge                        2354 non-null   float64       \n",
      " 43  Sneezeweed                   2354 non-null   float64       \n",
      " 44  Other Weed                   2354 non-null   float64       \n",
      " 45  Weed Total                   2354 non-null   float64       \n",
      " 46  Pollen Total                 2354 non-null   float64       \n",
      " 47  Tech.                        3372 non-null   object        \n",
      " 48  AWND_60                      3282 non-null   float64       \n",
      " 49  PRCP_60                      3282 non-null   float64       \n",
      " 50  SNOW_60                      3281 non-null   float64       \n",
      " 51  SNWD_60                      3281 non-null   float64       \n",
      " 52  TAVG_60                      3282 non-null   float64       \n",
      " 53  TMAX_60                      3282 non-null   float64       \n",
      " 54  TMIN_60                      3282 non-null   float64       \n",
      " 55  WDF2_60                      3282 non-null   float64       \n",
      " 56  WDF5_60                      3266 non-null   float64       \n",
      " 57  WSF2_60                      3282 non-null   float64       \n",
      " 58  WSF5_60                      3266 non-null   float64       \n",
      " 59  AWND_18                      3282 non-null   float64       \n",
      " 60  PRCP_18                      3282 non-null   float64       \n",
      " 61  SNOW_18                      364 non-null    float64       \n",
      " 62  SNWD_18                      363 non-null    float64       \n",
      " 63  TAVG_18                      3282 non-null   float64       \n",
      " 64  TMAX_18                      3282 non-null   float64       \n",
      " 65  TMIN_18                      3282 non-null   float64       \n",
      " 66  WDF2_18                      3282 non-null   float64       \n",
      " 67  WDF5_18                      3255 non-null   float64       \n",
      " 68  WSF2_18                      3282 non-null   float64       \n",
      " 69  WSF5_18                      3255 non-null   float64       \n",
      " 70  AWND                         3350 non-null   float64       \n",
      " 71  PRCP                         3372 non-null   float64       \n",
      " 72  TAVG                         3372 non-null   float64       \n",
      " 73  WDF2                         3372 non-null   int64         \n",
      "dtypes: datetime64[ns](1), float64(71), int64(1), object(1)\n",
      "memory usage: 1.9+ MB\n"
     ]
    }
   ],
   "source": [
    "combined_df.info()"
   ]
  },
  {
   "cell_type": "markdown",
   "metadata": {},
   "source": [
    "The number of columns is excessive so we remove snow and just keep averages of wind speed and temperature for which there are stronger correlations to pollen counts anyway as shown below:"
   ]
  },
  {
   "cell_type": "code",
   "execution_count": 20,
   "metadata": {},
   "outputs": [],
   "source": [
    "combined_df = combined_df.drop(['SNOW_60', 'SNWD_60', 'TMAX_60', 'TMIN_60', 'WDF2_60', 'WDF5_60', 'WSF2_60', 'WSF5_60',\n",
    "                                'SNOW_18', 'SNWD_18', 'TMAX_18','TMIN_18', 'WDF2_18', 'WDF5_18', 'WSF2_18', 'WSF5_18'], axis=1)"
   ]
  },
  {
   "cell_type": "code",
   "execution_count": 21,
   "metadata": {
    "scrolled": true
   },
   "outputs": [
    {
     "data": {
      "text/plain": [
       "Index(['DATE', 'Alder', 'Ash', 'Ashe Juniper / Bald Cypress', 'Black Gum ',\n",
       "       'Black Walnut', 'Bushes', 'Birch', 'Cedar', 'Cotton Wood', 'Dogwood',\n",
       "       'Elm', 'Glandular Mesquite', ' Hackberry', 'Hickory', 'Mulberry',\n",
       "       'Maple', 'Osage Orange', 'Oak', 'Sycamore', 'Pine', 'Privet',\n",
       "       'Sweet Gum', 'Gingko Biloba', 'Magnolia', 'Willow', 'Tree Total',\n",
       "       'Grass Total', 'Tree & Grass Total', 'Amaranth', 'Burweed / Marshelder',\n",
       "       'Cattail', 'Dog Fennel', 'Lamb's Quarters', 'Nettle', 'Partridge Pea',\n",
       "       'Pigweed', 'Plum Grannet', 'Ragweed', 'Rumex', 'Sagebrush', 'Saltbrush',\n",
       "       'Sedge', 'Sneezeweed', 'Other Weed', 'Weed Total', 'Pollen Total',\n",
       "       'Tech.', 'AWND_60', 'PRCP_60', 'TAVG_60', 'AWND_18', 'PRCP_18',\n",
       "       'TAVG_18', 'AWND', 'PRCP', 'TAVG', 'WDF2'],\n",
       "      dtype='object')"
      ]
     },
     "execution_count": 21,
     "metadata": {},
     "output_type": "execute_result"
    }
   ],
   "source": [
    "combined_df.columns"
   ]
  },
  {
   "cell_type": "code",
   "execution_count": 22,
   "metadata": {},
   "outputs": [],
   "source": [
    "# the merge changed our index so we reset to datetime\n",
    "combined_df.set_index('DATE', inplace=True, drop=True)"
   ]
  },
  {
   "cell_type": "code",
   "execution_count": 23,
   "metadata": {},
   "outputs": [],
   "source": [
    "combined_df.sort_index(inplace=True)"
   ]
  },
  {
   "cell_type": "code",
   "execution_count": 24,
   "metadata": {
    "scrolled": true
   },
   "outputs": [
    {
     "name": "stdout",
     "output_type": "stream",
     "text": [
      "<class 'pandas.core.frame.DataFrame'>\n",
      "DatetimeIndex: 3372 entries, 2013-01-01 to 2022-03-31\n",
      "Data columns (total 57 columns):\n",
      " #   Column                       Non-Null Count  Dtype  \n",
      "---  ------                       --------------  -----  \n",
      " 0   Alder                        1064 non-null   float64\n",
      " 1   Ash                          2354 non-null   float64\n",
      " 2   Ashe Juniper / Bald Cypress  2354 non-null   float64\n",
      " 3   Black Gum                    2354 non-null   float64\n",
      " 4   Black Walnut                 2338 non-null   float64\n",
      " 5   Bushes                       2354 non-null   float64\n",
      " 6   Birch                        2354 non-null   float64\n",
      " 7   Cedar                        828 non-null    float64\n",
      " 8   Cotton Wood                  2354 non-null   float64\n",
      " 9   Dogwood                      2354 non-null   float64\n",
      " 10  Elm                          2354 non-null   float64\n",
      " 11  Glandular Mesquite           2354 non-null   float64\n",
      " 12   Hackberry                   2354 non-null   float64\n",
      " 13  Hickory                      2354 non-null   float64\n",
      " 14  Mulberry                     2354 non-null   float64\n",
      " 15  Maple                        2354 non-null   float64\n",
      " 16  Osage Orange                 2354 non-null   float64\n",
      " 17  Oak                          2354 non-null   float64\n",
      " 18  Sycamore                     2354 non-null   float64\n",
      " 19  Pine                         2354 non-null   float64\n",
      " 20  Privet                       2353 non-null   float64\n",
      " 21  Sweet Gum                    2354 non-null   float64\n",
      " 22  Gingko Biloba                2353 non-null   float64\n",
      " 23  Magnolia                     2354 non-null   float64\n",
      " 24  Willow                       2353 non-null   float64\n",
      " 25  Tree Total                   2354 non-null   float64\n",
      " 26  Grass Total                  2354 non-null   float64\n",
      " 27  Tree & Grass Total           2354 non-null   float64\n",
      " 28  Amaranth                     2354 non-null   float64\n",
      " 29  Burweed / Marshelder         2354 non-null   float64\n",
      " 30  Cattail                      2354 non-null   float64\n",
      " 31  Dog Fennel                   2354 non-null   float64\n",
      " 32  Lamb's Quarters              2354 non-null   float64\n",
      " 33  Nettle                       708 non-null    float64\n",
      " 34  Partridge Pea                2332 non-null   float64\n",
      " 35  Pigweed                      2245 non-null   float64\n",
      " 36  Plum Grannet                 2354 non-null   float64\n",
      " 37  Ragweed                      2354 non-null   float64\n",
      " 38  Rumex                        2354 non-null   float64\n",
      " 39  Sagebrush                    2354 non-null   float64\n",
      " 40  Saltbrush                    2354 non-null   float64\n",
      " 41  Sedge                        2354 non-null   float64\n",
      " 42  Sneezeweed                   2354 non-null   float64\n",
      " 43  Other Weed                   2354 non-null   float64\n",
      " 44  Weed Total                   2354 non-null   float64\n",
      " 45  Pollen Total                 2354 non-null   float64\n",
      " 46  Tech.                        3372 non-null   object \n",
      " 47  AWND_60                      3282 non-null   float64\n",
      " 48  PRCP_60                      3282 non-null   float64\n",
      " 49  TAVG_60                      3282 non-null   float64\n",
      " 50  AWND_18                      3282 non-null   float64\n",
      " 51  PRCP_18                      3282 non-null   float64\n",
      " 52  TAVG_18                      3282 non-null   float64\n",
      " 53  AWND                         3350 non-null   float64\n",
      " 54  PRCP                         3372 non-null   float64\n",
      " 55  TAVG                         3372 non-null   float64\n",
      " 56  WDF2                         3372 non-null   int64  \n",
      "dtypes: float64(55), int64(1), object(1)\n",
      "memory usage: 1.5+ MB\n"
     ]
    }
   ],
   "source": [
    "combined_df.info()"
   ]
  },
  {
   "cell_type": "code",
   "execution_count": 25,
   "metadata": {},
   "outputs": [],
   "source": [
    "# for clarity's sake change the names of the columns with information from shreveport by adding the suffix _S\n",
    "combined_df[['AWND_S', 'PRCP_S', 'TAVG_S', 'WDF2_S']] = combined_df[['AWND', 'PRCP', 'TAVG', 'WDF2']]"
   ]
  },
  {
   "cell_type": "code",
   "execution_count": 26,
   "metadata": {},
   "outputs": [],
   "source": [
    "combined_df = combined_df.drop(columns=['AWND', 'PRCP', 'TAVG', 'WDF2'])"
   ]
  },
  {
   "cell_type": "markdown",
   "metadata": {},
   "source": [
    "It was decided to preserve a workable record of the data before imputing missing values to compare to the imputed data. This was done by upsampling the time series to weekly."
   ]
  },
  {
   "cell_type": "code",
   "execution_count": 27,
   "metadata": {},
   "outputs": [],
   "source": [
    "weekly_raw = combined_df.resample('W').mean()"
   ]
  },
  {
   "cell_type": "markdown",
   "metadata": {},
   "source": [
    "# Feature Engineering and Imputing missing values\n",
    "Weed, grass and tree pollens are interpreted differently in terms of severity. For instance, a 200 is a high count for grass pollen, and 1000 is a high count for tree pollen. Given that this is a classificcation project, binary columns for high and very high pollen counts are created. More information is given at the <a href= 'https://www.houstontx.gov/health/Pollen-Mold/numbers.html'>Houston Health Dept. website.</a>"
   ]
  },
  {
   "cell_type": "code",
   "execution_count": 28,
   "metadata": {},
   "outputs": [],
   "source": [
    "#first missing values are interpolated linearly. Pollen Total in included to compare to the weighted pollen count\n",
    "for total in ['Tree Total', 'Grass Total', 'Weed Total', 'Pollen Total']:\n",
    "    combined_df[total] = combined_df[total].interpolate()"
   ]
  },
  {
   "cell_type": "code",
   "execution_count": 29,
   "metadata": {},
   "outputs": [],
   "source": [
    "#feature engineering a weighted pollen column that accounts for severity of different\n",
    "combined_df['pollen_weighted'] = combined_df['Tree Total'] + combined_df['Grass Total']*7.5 +combined_df['Weed Total']*3\n",
    "weekly_raw['pollen_weighted'] = weekly_raw['Tree Total'] + weekly_raw['Grass Total']*7.5 + weekly_raw['Weed Total']*3"
   ]
  },
  {
   "cell_type": "markdown",
   "metadata": {},
   "source": [
    "pollen counts above have been weighted based on \"extremely heavy\" rating for trees of 1500+ so this is chosen as the threshold for `super_high` pollen count in the classification columns. We assign ratings of very_high as somewhere in the middle, and high as the lower threshold for \"heavy\" pollen counts as follows"
   ]
  },
  {
   "cell_type": "code",
   "execution_count": 30,
   "metadata": {},
   "outputs": [],
   "source": [
    "combined_df['super_high'] = (combined_df['pollen_weighted'] > 1500).astype(int)\n",
    "combined_df['very_high'] = (combined_df['pollen_weighted'] > 500).astype(int)\n",
    "combined_df['high'] = (combined_df['pollen_weighted']>100).astype(int)\n",
    "\n",
    "weekly_raw['super_high'] = (weekly_raw['pollen_weighted'] > 1500).astype(int)\n",
    "weekly_raw['very_high'] = (weekly_raw['pollen_weighted'] > 500).astype(int)\n",
    "weekly_raw['high'] = (weekly_raw['pollen_weighted']>100).astype(int)"
   ]
  },
  {
   "cell_type": "code",
   "execution_count": 31,
   "metadata": {},
   "outputs": [
    {
     "name": "stdout",
     "output_type": "stream",
     "text": [
      "1    1771\n",
      "0    1601\n",
      "Name: high, dtype: int64\n",
      "1    0.525208\n",
      "0    0.474792\n",
      "Name: high, dtype: float64\n",
      "0    2697\n",
      "1     675\n",
      "Name: very_high, dtype: int64\n",
      "0    0.799822\n",
      "1    0.200178\n",
      "Name: very_high, dtype: float64\n",
      "0    3151\n",
      "1     221\n",
      "Name: super_high, dtype: int64\n",
      "0    0.93446\n",
      "1    0.06554\n",
      "Name: super_high, dtype: float64\n"
     ]
    }
   ],
   "source": [
    "#checking class balances for each category for interpolated data\n",
    "for lvl in ['high', 'very_high', 'super_high']:\n",
    "    print(combined_df[lvl].value_counts()) \n",
    "    print(combined_df[lvl].value_counts(normalize=True))"
   ]
  },
  {
   "cell_type": "code",
   "execution_count": 32,
   "metadata": {},
   "outputs": [
    {
     "name": "stdout",
     "output_type": "stream",
     "text": [
      "1    280\n",
      "0    203\n",
      "Name: high, dtype: int64\n",
      "1    0.57971\n",
      "0    0.42029\n",
      "Name: high, dtype: float64\n",
      "0    379\n",
      "1    104\n",
      "Name: very_high, dtype: int64\n",
      "0    0.784679\n",
      "1    0.215321\n",
      "Name: very_high, dtype: float64\n",
      "0    455\n",
      "1     28\n",
      "Name: super_high, dtype: int64\n",
      "0    0.942029\n",
      "1    0.057971\n",
      "Name: super_high, dtype: float64\n"
     ]
    }
   ],
   "source": [
    "#checking class balances for each category for non-imputed data\n",
    "for lvl in ['high', 'very_high', 'super_high']:\n",
    "    print(weekly_raw[lvl].value_counts()) \n",
    "    print(weekly_raw[lvl].value_counts(normalize=True))"
   ]
  },
  {
   "cell_type": "markdown",
   "metadata": {},
   "source": [
    "In comparing the breakdowns of our imputed and unimputed data, the class breakdown for each level of severity is roughly the same. This provides enough confidence that the imputed data can be used moving forward. We name it and save it as a new master dataset below"
   ]
  },
  {
   "cell_type": "code",
   "execution_count": 33,
   "metadata": {},
   "outputs": [],
   "source": [
    "master_df = combined_df.copy()"
   ]
  },
  {
   "cell_type": "code",
   "execution_count": 34,
   "metadata": {},
   "outputs": [],
   "source": [
    "master_df = master_df.asfreq('D')"
   ]
  },
  {
   "cell_type": "code",
   "execution_count": 35,
   "metadata": {},
   "outputs": [],
   "source": [
    "master_df.to_csv('data/master_df.csv')"
   ]
  }
 ],
 "metadata": {
  "kernelspec": {
   "display_name": "Python (learn-env)",
   "language": "python",
   "name": "learn-env"
  },
  "language_info": {
   "codemirror_mode": {
    "name": "ipython",
    "version": 3
   },
   "file_extension": ".py",
   "mimetype": "text/x-python",
   "name": "python",
   "nbconvert_exporter": "python",
   "pygments_lexer": "ipython3",
   "version": "3.8.5"
  }
 },
 "nbformat": 4,
 "nbformat_minor": 4
}
